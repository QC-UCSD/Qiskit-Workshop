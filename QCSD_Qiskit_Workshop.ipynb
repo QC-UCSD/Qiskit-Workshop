{
  "nbformat": 4,
  "nbformat_minor": 0,
  "metadata": {
    "colab": {
      "provenance": []
    },
    "kernelspec": {
      "name": "python3",
      "display_name": "Python 3"
    },
    "language_info": {
      "name": "python"
    }
  },
  "cells": [
    {
      "cell_type": "markdown",
      "source": [
        "# QCSD Presents: Qiskit Workshop 11/28/2022"
      ],
      "metadata": {
        "id": "bZGSFEwdTRMN"
      }
    },
    {
      "cell_type": "markdown",
      "source": [
        "###Part 0: Import Qiskit"
      ],
      "metadata": {
        "id": "c8Kd63N1bRdq"
      }
    },
    {
      "cell_type": "code",
      "source": [
        "pip install qiskit"
      ],
      "metadata": {
        "id": "pDmNormifZGR"
      },
      "execution_count": null,
      "outputs": []
    },
    {
      "cell_type": "code",
      "execution_count": null,
      "metadata": {
        "id": "Fkz2vB9Ba6k6"
      },
      "outputs": [],
      "source": [
        "import numpy as np\n",
        "\n",
        "# Importing standard Qiskit libraries\n",
        "from qiskit import QuantumCircuit, execute, IBMQ\n",
        "from qiskit.providers.ibmq import least_busy\n",
        "from qiskit.tools.jupyter import *\n",
        "from qiskit.visualization import *\n",
        "\n",
        "import warnings  # We are using this library to suppress some warning messages\n",
        "warnings.filterwarnings(\"ignore\")\n",
        "\n",
        "# Loading your IBM Quantum account(s)\n",
        "provider = IBMQ.load_account()\n",
        "# Or, if you want to run locally run the line below\n",
        "# provider = IBMQ.enable_account(TOKEN)"
      ]
    },
    {
      "cell_type": "markdown",
      "source": [
        "###Part 1: Basic Qiskit"
      ],
      "metadata": {
        "id": "exgmGl9Cgeoy"
      }
    },
    {
      "cell_type": "markdown",
      "source": [
        "####1.1 - Creating Quantum Circuits (Together)\n",
        "\n",
        "Create a quantum circuit `qc` with 1 qubit and 0 classical bits. Add an X gate to this circuit, and finally draw it. Then call `visualize_transition(qc, trace=True)` on the circuit.\n",
        "\n",
        "Hint: We create circuits with `QuantumCircuit(n, m)`, where n = number of qubits and m = number of classical bits."
      ],
      "metadata": {
        "id": "rqtYjTUxgjGZ"
      }
    },
    {
      "cell_type": "code",
      "source": [
        "# YOUR CODE HERE"
      ],
      "metadata": {
        "id": "EybyryClfTfh"
      },
      "execution_count": null,
      "outputs": []
    },
    {
      "cell_type": "markdown",
      "source": [
        "####1.2 - Measurements on Quantum Circuits (Together)\n",
        "\n",
        "Create a quantum circuit `qc` with 2 qubits and 2 classical bits. Add an H gate to the 0th qubit, and a CNOT with the 0th qubit as the control. Then measure both qubits using `qc.meaure([0, 1], [0, 1])`, and finally draw it.\n",
        "\n",
        "Hint: We add CNOTs using `qc.cx(i, j)`, where i is the control and j is the target. Colloquially, we call this an \"i to j CNOT\"."
      ],
      "metadata": {
        "id": "3XNNva6iiuNC"
      }
    },
    {
      "cell_type": "code",
      "source": [
        "# YOUR CODE HERE"
      ],
      "metadata": {
        "id": "tHCCVvSGjAqz"
      },
      "execution_count": null,
      "outputs": []
    },
    {
      "cell_type": "markdown",
      "source": [
        "####1.3 - Wider Quantum Circuits (Individual)\n",
        "\n",
        "Create a quantum circuit `qc` with 16 qubits and 16 classical bits. Add an H gate to the even qubits, and a CNOT between neighboring qubits (i.e. 0 to 1, 1 to 2, etc). Then draw the circuit.\n",
        "\n",
        "Hint: You'll probably want to use a for-loop here. Don't worry, they behave exactly like normal."
      ],
      "metadata": {
        "id": "VPebVcxCjIoT"
      }
    },
    {
      "cell_type": "code",
      "source": [
        "# YOUR CODE HERE"
      ],
      "metadata": {
        "id": "T8Sj7g3mjvU-"
      },
      "execution_count": null,
      "outputs": []
    },
    {
      "cell_type": "markdown",
      "source": [
        "####1.4 - Deeper Quantum Circuits (Individual)\n",
        "\n",
        "Create a quantum circuit `qc` with 1 qubit and 0 classical bits. Add 20 X gates to the qubit and call `visualize_transition(qc, trace=True, fpg=1)`. Then repeat this process with 21 X gates and compare the results."
      ],
      "metadata": {
        "id": "WrpTD3oOkamk"
      }
    },
    {
      "cell_type": "code",
      "source": [
        "# YOUR CODE HERE"
      ],
      "metadata": {
        "id": "KFS9no3AlXEW"
      },
      "execution_count": null,
      "outputs": []
    },
    {
      "cell_type": "markdown",
      "source": [
        "###Part 2: Simulators and Quantum Computers"
      ],
      "metadata": {
        "id": "JDtUurtdlhsZ"
      }
    },
    {
      "cell_type": "markdown",
      "source": [
        "####2.1 - 2-qubit Circuit Revisited (Together)\n",
        "\n",
        "Recreate the quantum circuit `qc` from part 1.2. This time, rather than drawing the circuit run the code blow using the QASM simulator. Vary the number of shots and notice how the output changes."
      ],
      "metadata": {
        "id": "TEW9-zbllmII"
      }
    },
    {
      "cell_type": "code",
      "source": [
        "# YOUR CODE HERE"
      ],
      "metadata": {
        "id": "qfqyC404miGp"
      },
      "execution_count": null,
      "outputs": []
    },
    {
      "cell_type": "code",
      "source": [
        "# QASM Simulator code\n",
        "sim = provider.get_backend('imbq_qasm_simulator')\n",
        "job = execute(qc, backend=sim, shots=1024)\n",
        "\n",
        "result = job.result()\n",
        "counts = result.get_counts()\n",
        "\n",
        "plot_histogram(counts)"
      ],
      "metadata": {
        "id": "_j9NW8fblleV"
      },
      "execution_count": null,
      "outputs": []
    },
    {
      "cell_type": "markdown",
      "source": [
        "####2.2 - Big Histograms (Together)\n",
        "\n",
        "Recreate the quantum circuit `qc` from part 1.3. Again, rather than drawing the circuit, run the code blow using the QASM simulator. Using Histograms to visualize the output can become incredibly important for larger circuits."
      ],
      "metadata": {
        "id": "uZpMADpfodhg"
      }
    },
    {
      "cell_type": "code",
      "source": [
        "# YOUR CODE HERE"
      ],
      "metadata": {
        "id": "2BTw_NRNpCqp"
      },
      "execution_count": null,
      "outputs": []
    },
    {
      "cell_type": "code",
      "source": [
        "# QASM Simulator code\n",
        "sim = provider.get_backend('imbq_qasm_simulator')\n",
        "job = execute(qc, backend=sim, shots=1024)\n",
        "\n",
        "result = job.result()\n",
        "counts = result.get_counts()\n",
        "\n",
        "plot_histogram(counts)"
      ],
      "metadata": {
        "id": "yy1tAzpFpIUs"
      },
      "execution_count": null,
      "outputs": []
    },
    {
      "cell_type": "markdown",
      "source": [
        "####2.3 - Real QCs (Together)\n",
        "\n",
        "Recreate the quantum circuit `qc` from part 1.3 and 2.2, except this time use only 4 qubits and 4 classical bits. First run the circuit using QASM, then run the circuit on a real quantum computer using the code below. Notice the difference between the simulated and real QC output.\n",
        "\n",
        "Hint: Due to the high demand for QC compute time, we've provided code that should make it faster to get your job onto a real qc. You could choose to do this manually using `provider.backends()` as we discussed in the slides."
      ],
      "metadata": {
        "id": "LzDUvv9QpMSW"
      }
    },
    {
      "cell_type": "code",
      "source": [
        "# YOUR CODE HERE"
      ],
      "metadata": {
        "id": "tVTAPg0L97vk"
      },
      "execution_count": null,
      "outputs": []
    },
    {
      "cell_type": "code",
      "source": [
        "# QASM Simulator code\n",
        "sim = provider.get_backend('imbq_qasm_simulator')\n",
        "job = execute(qc, backend=sim, shots=1024)\n",
        "\n",
        "result = job.result()\n",
        "counts = result.get_counts()\n",
        "\n",
        "plot_histogram(counts)"
      ],
      "metadata": {
        "id": "DyjeiMEWqCFo"
      },
      "execution_count": null,
      "outputs": []
    },
    {
      "cell_type": "code",
      "source": [
        "# Real QC code\n",
        "small_devices = provider.backends(filters=lambda x: x.configuration().n_qubits >= 4 \n",
        "                                  and not x.configuration().simulator)\n",
        "device = least_busy(small_devices)\n",
        "job = execute(qc, backend=device, shots=1024)\n",
        "\n",
        "result = job.result()\n",
        "counts = result.get_counts()\n",
        "\n",
        "plot_histogram(counts)"
      ],
      "metadata": {
        "id": "dQESZdtI7TKO"
      },
      "execution_count": null,
      "outputs": []
    },
    {
      "cell_type": "markdown",
      "source": [
        "####2.5 - Making a REAL Random Number Generator pt. 1 (Individual)\n",
        "\n",
        "We've seen how H gates can be used to create superpositions (and therefore randomness), we'll be utilizing that here to create a truly random RNG. To start make a 5 qubit circuit and apply an H gate to each qubit and a measurement to each qubit. Demonstrate your circuit produces a \"random\" binary string using the QASM simulator and the code below."
      ],
      "metadata": {
        "id": "1pPmNs237SLE"
      }
    },
    {
      "cell_type": "code",
      "source": [
        "# YOUR CODE HERE"
      ],
      "metadata": {
        "id": "0WVlg6PKCzDi"
      },
      "execution_count": null,
      "outputs": []
    },
    {
      "cell_type": "markdown",
      "source": [
        "####2.6 - Making a REAL Random Number Generator pt. 2 (Individual)\n",
        "\n",
        "Now run your same circuit, but on a real quantum computer using the code below."
      ],
      "metadata": {
        "id": "ZqNZRxamC00S"
      }
    },
    {
      "cell_type": "code",
      "source": [
        "# Real QC code\n",
        "small_devices = provider.backends(filters=lambda x: x.configuration().n_qubits >= 5 \n",
        "                                  and not x.configuration().simulator)\n",
        "device = least_busy(small_devices)\n",
        "job = execute(qc, backend=device, shots=1024)\n",
        "\n",
        "result = job.result()\n",
        "counts = result.get_counts()\n",
        "\n",
        "plot_histogram(counts)"
      ],
      "metadata": {
        "id": "Vfpw2I--DNDq"
      },
      "execution_count": null,
      "outputs": []
    },
    {
      "cell_type": "markdown",
      "source": [
        "Congrats! You have officially created truly random data. You can tell your friends every time they want to flip a coin to instead wait for you to run this. I'm sure they'll still want to be your friends."
      ],
      "metadata": {
        "id": "Y7KxLCisDNj2"
      }
    },
    {
      "cell_type": "markdown",
      "source": [
        "OPTIONAL: Try modifying your random number generator to have any positive, integer max-value, not just 2^5=32."
      ],
      "metadata": {
        "id": "J9OaM14BFjne"
      }
    },
    {
      "cell_type": "code",
      "source": [
        "# YOUR CODE HERE (OPTIONAL)"
      ],
      "metadata": {
        "id": "DE0Y3XMqFxIJ"
      },
      "execution_count": null,
      "outputs": []
    },
    {
      "cell_type": "markdown",
      "source": [
        "###Part 3: Demo of Advanced circuits"
      ],
      "metadata": {
        "id": "brqWXfW9DPaV"
      }
    },
    {
      "cell_type": "markdown",
      "source": [
        "This last piece here is to demonstrate the breadth of possibilities using quantum circuits. We've grasped the fundamentals, but quantum programming can get much, much cooler. "
      ],
      "metadata": {
        "id": "g1mzC_ApEEm8"
      }
    },
    {
      "cell_type": "code",
      "source": [
        "pip install git+https://github.com/qiskit-community/qiskit-textbook.git#subdirectory=qiskit-textbook-src"
      ],
      "metadata": {
        "id": "Knqw7z3ETrkb"
      },
      "execution_count": null,
      "outputs": []
    },
    {
      "cell_type": "code",
      "source": [
        "# Taken from https://learn.qiskit.org/course/ch-demos/first-quantum-game\n",
        "\n",
        "import random\n",
        "from qiskit_textbook.games.qiskit_game_engine import QiskitGameEngine\n",
        "from qiskit.quantum_info import Statevector\n",
        "\n",
        "seed = [random.random() for _ in range(4)]\n",
        "\n",
        "# function called when setting up\n",
        "def start(engine):\n",
        "    \n",
        "    # set a parameter to keep track of the player pixel\n",
        "    engine.X = 1\n",
        "    engine.Y = 2\n",
        "    \n",
        "    # then move on to the first frame\n",
        "    next_frame(engine)\n",
        "\n",
        "# this is the function that does everything\n",
        "def next_frame(engine):\n",
        "\n",
        "    # change player position\n",
        "    if engine.controller['up'].value:\n",
        "        engine.Y -= 1\n",
        "    if engine.controller['down'].value:\n",
        "        engine.Y += 1\n",
        "    if engine.controller['right'].value:\n",
        "        engine.X += 1\n",
        "    if engine.controller['left'].value:\n",
        "        engine.X -= 1\n",
        "    \n",
        "    # set all pixels to green\n",
        "    for x in range(engine.L):\n",
        "        for y in range(engine.L):\n",
        "            # get the 'world' coordinates X,Y from the onscreen coordinates x,y\n",
        "            X = np.floor(engine.X/engine.L)*engine.L+x\n",
        "            Y = np.floor(engine.Y/engine.L)*engine.L+y\n",
        "            # set it to whatever colour it should be\n",
        "            engine.screen.pixel[x,y].set_color(get_color(X,Y))\n",
        "            \n",
        "    # draw the player pixel\n",
        "    Xs = engine.X%engine.L\n",
        "    Ys = engine.Y%engine.L\n",
        "    engine.screen.pixel[Xs,Ys].set_color('red')\n",
        "\n",
        "def get_color(X,Y):\n",
        "    \n",
        "    qc = QuantumCircuit(1)\n",
        "\n",
        "    theta1 = (seed[0]*X+seed[1]*Y)*np.pi/16\n",
        "    theta2 = (seed[2]*X-seed[3]*Y)*np.pi/16\n",
        "    qc.ry(theta1,0)\n",
        "    qc.rx(theta2,0)\n",
        "\n",
        "    state = Statevector.from_instruction(qc)\n",
        "    probs = state.probabilities_dict()\n",
        "    \n",
        "    try:\n",
        "        height = probs['1']\n",
        "    except:\n",
        "        height = 0\n",
        "        \n",
        "    # set colour accordingly\n",
        "    if height<0.1: # sea/river\n",
        "        color = 'blue'\n",
        "    elif height<0.3: # beach\n",
        "        color = 'orange'\n",
        "    elif height<0.9: # grass\n",
        "        color = 'green'\n",
        "    else: # mountain\n",
        "        color = 'grey'\n",
        "        \n",
        "    return color\n",
        "\n",
        "# run the game\n",
        "engine = QiskitGameEngine(start,next_frame,L=8)"
      ],
      "metadata": {
        "id": "k_SBChvfDODM"
      },
      "execution_count": null,
      "outputs": []
    },
    {
      "cell_type": "code",
      "source": [],
      "metadata": {
        "id": "ZI8flINjVnIw"
      },
      "execution_count": null,
      "outputs": []
    }
  ]
}