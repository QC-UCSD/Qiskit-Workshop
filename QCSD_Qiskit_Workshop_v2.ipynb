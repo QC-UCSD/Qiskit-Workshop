{
  "nbformat": 4,
  "nbformat_minor": 0,
  "metadata": {
    "colab": {
      "provenance": [],
      "toc_visible": true
    },
    "kernelspec": {
      "name": "python3",
      "display_name": "Python 3"
    },
    "language_info": {
      "name": "python"
    }
  },
  "cells": [
    {
      "cell_type": "markdown",
      "source": [
        "# QCSD Presents: Qiskit Workshop 11/28/2022"
      ],
      "metadata": {
        "id": "bZGSFEwdTRMN"
      }
    },
    {
      "cell_type": "markdown",
      "source": [
        "###Part 0: Import Qiskit"
      ],
      "metadata": {
        "id": "c8Kd63N1bRdq"
      }
    },
    {
      "cell_type": "code",
      "source": [
        "pip install qiskit"
      ],
      "metadata": {
        "id": "pDmNormifZGR"
      },
      "execution_count": null,
      "outputs": []
    },
    {
      "cell_type": "code",
      "execution_count": null,
      "metadata": {
        "id": "Fkz2vB9Ba6k6"
      },
      "outputs": [],
      "source": [
        "import numpy as np\n",
        "\n",
        "# Importing standard Qiskit libraries\n",
        "from qiskit import QuantumCircuit, execute, IBMQ\n",
        "from qiskit.exceptions import QiskitError\n",
        "from qiskit.providers.ibmq import least_busy\n",
        "from qiskit.tools.jupyter import *\n",
        "from qiskit.visualization import *\n",
        "\n",
        "# We are using this library to suppress some warning messages\n",
        "import warnings\n",
        "warnings.filterwarnings(\"ignore\")\n",
        "\n",
        "# Loading your IBM Quantum account(s)\n",
        "provider = IBMQ.load_account()\n",
        "# Or, if you want to run locally run the line below\n",
        "# provider = IBMQ.enable_account('TOKEN')"
      ]
    },
    {
      "cell_type": "markdown",
      "source": [
        "###Part 1: Basic Qiskit"
      ],
      "metadata": {
        "id": "exgmGl9Cgeoy"
      }
    },
    {
      "cell_type": "markdown",
      "source": [
        "####1.1 - Creating Quantum Circuits (Together)\n",
        "\n",
        "Create a quantum circuit `qc` with 1 qubit and 0 classical bits. Add an X gate to this circuit, and finally draw it. Then call `visualize_transition(qc, trace=True)` on the circuit.\n",
        "\n",
        "Hint: We create circuits with `QuantumCircuit(n, m)`, where n = number of qubits and m = number of classical bits."
      ],
      "metadata": {
        "id": "rqtYjTUxgjGZ"
      }
    },
    {
      "cell_type": "code",
      "source": [
        "# YOUR CODE HERE"
      ],
      "metadata": {
        "id": "EybyryClfTfh"
      },
      "execution_count": 1,
      "outputs": []
    },
    {
      "cell_type": "markdown",
      "source": [
        "####1.2 - Measurements on Quantum Circuits (Together)\n",
        "\n",
        "Create a quantum circuit `qc` with 2 qubits and 2 classical bits. Add an H gate to the 0th qubit, and a CNOT with the 0th qubit as the control. Then measure both qubits using `qc.measure([0, 1], [0, 1])`, and finally draw it.\n",
        "\n",
        "Hint: We add CNOTs using `qc.cx(i, j)`, where i is the control and j is the target. Colloquially, we call this an \"i to j CNOT\"."
      ],
      "metadata": {
        "id": "3XNNva6iiuNC"
      }
    },
    {
      "cell_type": "code",
      "source": [
        "# YOUR CODE HERE"
      ],
      "metadata": {
        "id": "tHCCVvSGjAqz"
      },
      "execution_count": 2,
      "outputs": []
    },
    {
      "cell_type": "markdown",
      "source": [
        "####1.3 - Wider Quantum Circuits (Individual)\n",
        "\n",
        "Create a quantum circuit `qc` with 16 qubits and 16 classical bits. Add an H gate to the even qubits, and a CNOT between neighboring qubits (i.e. 0 to 1, 1 to 2, etc). Then draw the circuit.\n",
        "\n",
        "Hint: You'll probably want to use a for-loop here. Don't worry, they behave exactly like normal."
      ],
      "metadata": {
        "id": "VPebVcxCjIoT"
      }
    },
    {
      "cell_type": "code",
      "source": [
        "# YOUR CODE HERE"
      ],
      "metadata": {
        "id": "T8Sj7g3mjvU-"
      },
      "execution_count": 3,
      "outputs": []
    },
    {
      "cell_type": "markdown",
      "source": [
        "####1.4 - Deeper Quantum Circuits (Individual)\n",
        "\n",
        "Create a quantum circuit `qc` with 1 qubit and 0 classical bits. Add 20 X gates to the qubit and call `visualize_transition(qc, trace=True, fpg=1)`. Then repeat this process with 21 X gates and compare the results."
      ],
      "metadata": {
        "id": "WrpTD3oOkamk"
      }
    },
    {
      "cell_type": "code",
      "source": [
        "# 20 X Gates\n",
        "\n",
        "# YOUR CODE HERE"
      ],
      "metadata": {
        "id": "KFS9no3AlXEW"
      },
      "execution_count": 4,
      "outputs": []
    },
    {
      "cell_type": "code",
      "source": [
        "# 21 X Gates\n",
        "\n",
        "# YOUR CODE HERE"
      ],
      "metadata": {
        "id": "Ykmbx5zMO4zq"
      },
      "execution_count": 5,
      "outputs": []
    },
    {
      "cell_type": "markdown",
      "source": [
        "###Part 2: Simulators and Quantum Computers"
      ],
      "metadata": {
        "id": "JDtUurtdlhsZ"
      }
    },
    {
      "cell_type": "markdown",
      "source": [
        "####2.1 - 2-qubit Circuit Revisited (Together)\n",
        "\n",
        "Recreate the quantum circuit `qc` from part 1.2. This time, rather than drawing the circuit run the code blow using the QASM simulator. Vary the number of shots and notice how the output changes."
      ],
      "metadata": {
        "id": "TEW9-zbllmII"
      }
    },
    {
      "cell_type": "code",
      "source": [
        "# YOUR CODE HERE"
      ],
      "metadata": {
        "id": "qfqyC404miGp"
      },
      "execution_count": 6,
      "outputs": []
    },
    {
      "cell_type": "code",
      "source": [
        "# QASM Simulator code\n",
        "sim = provider.get_backend('ibmq_qasm_simulator')\n",
        "\n",
        "shots_arr = [1, 10, 100, 1000, 10000]\n",
        "counts_arr = []\n",
        "\n",
        "# As the number of shots increases, we get an output distribution that is\n",
        "#  closer to the actual distribution. In this case, that means our output should\n",
        "#  appear as a 50-50 split between 2 options. This effect is not quantum at all,\n",
        "#  it arises naturally due to the stochasticity (randomness) of the sampling \n",
        "#  process (measurement), and due to the Central Limit Theorem.\n",
        "for shots in shots_arr:\n",
        "  job = execute(<name_of_your_quantum_circuit>, backend=sim, shots=shots)\n",
        "\n",
        "  result = job.result()\n",
        "  counts_arr.append(result.get_counts())\n",
        "\n",
        "# We'll plot the histograms in separate cells to ensure they all show."
      ],
      "metadata": {
        "id": "wAesBFiQQR8-"
      },
      "execution_count": null,
      "outputs": []
    },
    {
      "cell_type": "code",
      "source": [
        "plot_histogram(counts_arr[0])"
      ],
      "metadata": {
        "id": "KdivghJpQMzL"
      },
      "execution_count": null,
      "outputs": []
    },
    {
      "cell_type": "code",
      "source": [
        "plot_histogram(counts_arr[1])"
      ],
      "metadata": {
        "id": "qBi-bwD8QI34"
      },
      "execution_count": null,
      "outputs": []
    },
    {
      "cell_type": "code",
      "source": [
        "plot_histogram(counts_arr[2])"
      ],
      "metadata": {
        "id": "_j9NW8fblleV"
      },
      "execution_count": null,
      "outputs": []
    },
    {
      "cell_type": "code",
      "source": [
        "plot_histogram(counts_arr[3])"
      ],
      "metadata": {
        "id": "eCkBm-pkQG-u"
      },
      "execution_count": null,
      "outputs": []
    },
    {
      "cell_type": "code",
      "source": [
        "plot_histogram(counts_arr[4])"
      ],
      "metadata": {
        "id": "J1CYAE7TUEiI"
      },
      "execution_count": null,
      "outputs": []
    },
    {
      "cell_type": "markdown",
      "source": [
        "####2.2 - Real QCs (Together)\n",
        "\n",
        "Recreate the quantum circuit `qc` from part 1.3, except this time use only 4 qubits and 4 classical bits. First run the circuit using QASM, then run the circuit on a real quantum computer using the code below. Notice the difference between the simulated and real QC output.\n",
        "\n",
        "Hint: Due to the high demand for QC compute time, we've provided code that should make it faster to get your job onto a real qc. You could choose to do this manually using `provider.backends()` as we discussed in the slides."
      ],
      "metadata": {
        "id": "LzDUvv9QpMSW"
      }
    },
    {
      "cell_type": "code",
      "source": [
        "# YOUR CODE HERE"
      ],
      "metadata": {
        "id": "tVTAPg0L97vk"
      },
      "execution_count": null,
      "outputs": []
    },
    {
      "cell_type": "code",
      "source": [
        "# QASM Simulator code\n",
        "sim = provider.get_backend('ibmq_qasm_simulator')\n",
        "# Since the circuit is fairly simple we'll use ~1000 shots.\n",
        "job = execute(<name_of_your_quantum_circuit>, backend=sim, shots=1024)\n",
        "\n",
        "result = job.result()\n",
        "counts = result.get_counts()\n",
        "\n",
        "plot_histogram(counts)"
      ],
      "metadata": {
        "id": "DyjeiMEWqCFo"
      },
      "execution_count": null,
      "outputs": []
    },
    {
      "cell_type": "code",
      "source": [
        "# Real QC code\n",
        "small_devices = provider.backends(filters=lambda x: x.configuration().n_qubits \n",
        "                                  >= 4 and not x.configuration().simulator)\n",
        "device = least_busy(small_devices)\n",
        "job = execute(<name_of_your_quantum_circuit>, backend=device, shots=1024)\n",
        "\n",
        "result = job.result()\n",
        "counts = result.get_counts()\n",
        "\n",
        "plot_histogram(counts)"
      ],
      "metadata": {
        "id": "dQESZdtI7TKO"
      },
      "execution_count": null,
      "outputs": []
    },
    {
      "cell_type": "code",
      "source": [
        "# Real QC code\n",
        "small_devices = provider.backends(filters=lambda x: x.configuration().n_qubits \n",
        "                                  >= 4 and not x.configuration().simulator)\n",
        "device = least_busy(small_devices)\n",
        "# As we scale the shots down, the noise still says around, so we need to use\n",
        "#  enough shots to discriminate our TRUE distribution from the noise.\n",
        "job = execute(<name_of_your_quantum_circuit>, backend=device, shots=10)\n",
        "\n",
        "result = job.result()\n",
        "counts = result.get_counts()\n",
        "\n",
        "plot_histogram(counts)"
      ],
      "metadata": {
        "id": "XVGJQWnjcGry"
      },
      "execution_count": null,
      "outputs": []
    },
    {
      "cell_type": "markdown",
      "source": [
        "####2.3 - Making a REAL Random Number Generator pt. 1 (Individual)\n",
        "\n",
        "We've seen how H gates can be used to create superpositions (and therefore randomness), we'll be utilizing that here to create a truly *random* RNG. To start make a 5 qubit circuit and apply an H gate to each qubit and a measurement to each qubit. Demonstrate your circuit produces a \"random\" binary string using the QASM simulator and the code below."
      ],
      "metadata": {
        "id": "1pPmNs237SLE"
      }
    },
    {
      "cell_type": "code",
      "source": [
        "# YOUR CODE HERE"
      ],
      "metadata": {
        "id": "0WVlg6PKCzDi"
      },
      "execution_count": null,
      "outputs": []
    },
    {
      "cell_type": "markdown",
      "source": [
        "####2.4 - Making a REAL Random Number Generator pt. 2 (Individual)\n",
        "\n",
        "Now run your same circuit, but on a real quantum computer using the code below."
      ],
      "metadata": {
        "id": "ZqNZRxamC00S"
      }
    },
    {
      "cell_type": "code",
      "source": [
        "QiskitError,\n",
        "# Real QC code\n",
        "small_devices = provider.backends(filters=lambda x: x.configuration().n_qubits >= 5 \n",
        "                                  and not x.configuration().simulator)\n",
        "device = least_busy(small_devices)\n",
        "job = execute(<name_of_your_quantum_circuit>, backend=device, shots=1024)\n",
        "\n",
        "result = job.result()\n",
        "counts = result.get_counts()\n",
        "\n",
        "plot_histogram(counts)"
      ],
      "metadata": {
        "id": "Vfpw2I--DNDq"
      },
      "execution_count": null,
      "outputs": []
    },
    {
      "cell_type": "code",
      "source": [
        "# YOUR CODE HERE"
      ],
      "metadata": {
        "id": "MBNriJNO1OEK"
      },
      "execution_count": null,
      "outputs": []
    },
    {
      "cell_type": "markdown",
      "source": [
        "Congrats! You have officially created truly random data. You can tell your friends every time they want to flip a coin to instead wait for you to run this. I'm sure they'll still want to be your friends."
      ],
      "metadata": {
        "id": "Y7KxLCisDNj2"
      }
    },
    {
      "cell_type": "markdown",
      "source": [
        "OPTIONAL: Try modifying your random number generator to have any positive, integer max-value from [0, 32], not just 2^5=32."
      ],
      "metadata": {
        "id": "J9OaM14BFjne"
      }
    },
    {
      "cell_type": "code",
      "source": [
        "# YOUR CODE HERE"
      ],
      "metadata": {
        "id": "DE0Y3XMqFxIJ"
      },
      "execution_count": null,
      "outputs": []
    },
    {
      "cell_type": "markdown",
      "source": [
        "###Part 3: Parameterized Gates"
      ],
      "metadata": {
        "id": "TxN2LiQt9cbG"
      }
    },
    {
      "cell_type": "markdown",
      "source": [
        "####3.1 - H-Gate Revisited (Together)\n",
        "\n",
        "Recreate the quantum circuit `qc` from part 1.2. This time, rather than using an an H gate directly, recreate the H gate using RX and RZ.\n",
        "\n",
        "Hint: RX and RZ are called using `qc.rx(θ, qubit)` and `qc.rz(θ, qubit)`."
      ],
      "metadata": {
        "id": "S1Pj4V03-NNX"
      }
    },
    {
      "cell_type": "code",
      "source": [
        "# YOUR CODE HERE"
      ],
      "metadata": {
        "id": "nilv9XoY9iC6"
      },
      "execution_count": null,
      "outputs": []
    },
    {
      "cell_type": "code",
      "source": [
        "# QASM Simulator code\n",
        "sim = provider.get_backend('ibmq_qasm_simulator')\n",
        "\n",
        "job = execute(<name_of_your_quantum_circuit>, backend=sim, shots=1000)\n",
        "\n",
        "result = job.result()\n",
        "counts = result.get_counts()\n",
        "\n",
        "plot_histogram(counts)"
      ],
      "metadata": {
        "id": "UbQwufzr-ZoZ"
      },
      "execution_count": null,
      "outputs": []
    },
    {
      "cell_type": "markdown",
      "source": [
        "####3.2 - Arbitrary Parameters (Individual)\n",
        "\n",
        "Recreate the quantum circuit `qc` from part 3.1. This time, however, try to make a superposition that isn't 50/50. You can do this still using RX and RZ."
      ],
      "metadata": {
        "id": "x4g5qF06-c7m"
      }
    },
    {
      "cell_type": "code",
      "source": [
        "# YOUR CODE HERE"
      ],
      "metadata": {
        "id": "UGd_XXan-crM"
      },
      "execution_count": null,
      "outputs": []
    },
    {
      "cell_type": "code",
      "source": [
        "# QASM Simulator code\n",
        "sim = provider.get_backend('ibmq_qasm_simulator')\n",
        "\n",
        "job = execute(<name_of_your_quantum_circuit>, backend=sim, shots=1000)\n",
        "\n",
        "result = job.result()\n",
        "counts = result.get_counts()\n",
        "\n",
        "plot_histogram(counts)"
      ],
      "metadata": {
        "id": "5B0r3bke-jLm"
      },
      "execution_count": null,
      "outputs": []
    },
    {
      "cell_type": "markdown",
      "source": [
        "####3.3 - Universal Gate (Individual)\n",
        "\n",
        "This last exercise is moreso just for fun. Using the universal gate `qc.u(θ,Φ,λ,qubit)`, create 1-qubit circuit and apply an arbitrary unitary gate. Then, visualize what happens by running the simulation.\n",
        "\n",
        "Hint: You're overthinking this, just plug in whatever for the angles and see what comes out!"
      ],
      "metadata": {
        "id": "AoT98fan-lY-"
      }
    },
    {
      "cell_type": "code",
      "source": [
        "# YOUR CODE HERE"
      ],
      "metadata": {
        "id": "oGenjSWL-nkB"
      },
      "execution_count": null,
      "outputs": []
    },
    {
      "cell_type": "code",
      "source": [
        "# QASM Simulator code\n",
        "sim = provider.get_backend('ibmq_qasm_simulator')\n",
        "\n",
        "job = execute(<name_of_your_quantum_circuit>, backend=sim, shots=1000)\n",
        "\n",
        "result = job.result()\n",
        "counts = result.get_counts()\n",
        "\n",
        "plot_histogram(counts)"
      ],
      "metadata": {
        "id": "m-zwCB9L-qAS"
      },
      "execution_count": null,
      "outputs": []
    }
  ]
}